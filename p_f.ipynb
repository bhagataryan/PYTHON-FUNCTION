{
 "cells": [
  {
   "cell_type": "code",
   "execution_count": 4,
   "id": "169dd2cd-fce9-4fe0-a0cc-422be5848d43",
   "metadata": {},
   "outputs": [],
   "source": [
    "def greet():\n",
    "    print('hello')\n",
    "    print('good morning')"
   ]
  },
  {
   "cell_type": "code",
   "execution_count": 3,
   "id": "bbc57b13-5296-4662-8073-512e01c5110a",
   "metadata": {},
   "outputs": [
    {
     "name": "stdout",
     "output_type": "stream",
     "text": [
      "hello\n",
      "good morning\n"
     ]
    }
   ],
   "source": [
    "def greet():\n",
    "    print('hello')\n",
    "    print('good morning') \n",
    "greet()"
   ]
  },
  {
   "cell_type": "code",
   "execution_count": 5,
   "id": "0050b8d5-3c87-470d-873b-18dfb8076035",
   "metadata": {},
   "outputs": [
    {
     "name": "stdout",
     "output_type": "stream",
     "text": [
      "hello\n",
      "good morning\n",
      "hello\n",
      "good morning\n",
      "hello\n",
      "good morning\n"
     ]
    }
   ],
   "source": [
    "def greet():\n",
    "    print('hello')\n",
    "    print('good morning') \n",
    "greet()\n",
    "\n",
    "def greet():\n",
    "    print('hello')\n",
    "    print('good morning') \n",
    "greet()\n",
    "\n",
    "def greet():\n",
    "    print('hello')\n",
    "    print('good morning') \n",
    "greet()"
   ]
  },
  {
   "cell_type": "code",
   "execution_count": 6,
   "id": "49ccfd26-493d-489e-a95b-a9906c72efe7",
   "metadata": {},
   "outputs": [
    {
     "name": "stdout",
     "output_type": "stream",
     "text": [
      "hello\n",
      "good morning\n",
      "hello\n",
      "good morning\n",
      "hello\n",
      "good morning\n"
     ]
    }
   ],
   "source": [
    "def greet():\n",
    "    print('hello')\n",
    "    print('good morning') \n",
    "greet()\n",
    "\n",
    "greet()\n",
    "\n",
    "greet()"
   ]
  },
  {
   "cell_type": "code",
   "execution_count": 7,
   "id": "159bd50f-0e17-4710-8fc9-70d365d698e2",
   "metadata": {},
   "outputs": [
    {
     "name": "stdout",
     "output_type": "stream",
     "text": [
      "11\n"
     ]
    }
   ],
   "source": [
    "# write a python code add 2 number \n",
    "\n",
    "def add(x,y):\n",
    "    c=x+y\n",
    "    print(c)  \n",
    "add(5,6)"
   ]
  },
  {
   "cell_type": "code",
   "execution_count": 8,
   "id": "5d62083e-dfb9-4963-ab1b-ba80b87e53c0",
   "metadata": {},
   "outputs": [
    {
     "name": "stdout",
     "output_type": "stream",
     "text": [
      "18\n"
     ]
    }
   ],
   "source": [
    "# write a python code add 2 number \n",
    "\n",
    "def add(x,y,z):\n",
    "    c=x+y+z\n",
    "    print(c)  \n",
    "add(5,6, 7)"
   ]
  },
  {
   "cell_type": "code",
   "execution_count": 9,
   "id": "78736fe3-11e5-418c-a237-1def6920d0f5",
   "metadata": {},
   "outputs": [
    {
     "name": "stdout",
     "output_type": "stream",
     "text": [
      "hello\n",
      "good morning\n"
     ]
    }
   ],
   "source": [
    "def greet():\n",
    "    print('hello')\n",
    "    print('good morning') \n",
    "greet()"
   ]
  },
  {
   "cell_type": "code",
   "execution_count": 10,
   "id": "1401ffa2-ea2b-4a3b-aeb5-79b21ff2ba93",
   "metadata": {},
   "outputs": [
    {
     "name": "stdout",
     "output_type": "stream",
     "text": [
      "18\n"
     ]
    }
   ],
   "source": [
    "def add(x,y,z):\n",
    "    c=x+y+z\n",
    "    print(c)  \n",
    "add(5,6, 7)"
   ]
  },
  {
   "cell_type": "code",
   "execution_count": 11,
   "id": "85bc29b5-3921-403c-81d0-5a506ccf98bd",
   "metadata": {},
   "outputs": [
    {
     "name": "stdout",
     "output_type": "stream",
     "text": [
      "hello\n",
      "good morning\n",
      "18\n"
     ]
    }
   ],
   "source": [
    "def greet():\n",
    "    print('hello')\n",
    "    print('good morning') \n",
    "greet()\n",
    "\n",
    "def add(x,y,z):\n",
    "    c=x+y+z\n",
    "    print(c)  \n",
    "add(5,6, 7)"
   ]
  },
  {
   "cell_type": "code",
   "execution_count": 12,
   "id": "37cc2671-d914-40f9-945f-ee99da61ff12",
   "metadata": {},
   "outputs": [
    {
     "name": "stdout",
     "output_type": "stream",
     "text": [
      "hello\n",
      "good morning\n",
      "-1\n"
     ]
    }
   ],
   "source": [
    "def greet():\n",
    "    print('hello')\n",
    "    print('good morning') \n",
    "\n",
    "def add(x,y,z):\n",
    "    c=x+y+z\n",
    "    return c  \n",
    "\n",
    "def sub(x,y):\n",
    "    d = x-y\n",
    "    print(d)\n",
    "    \n",
    "greet()\n",
    "add(5,6,7)\n",
    "sub(2,3)"
   ]
  },
  {
   "cell_type": "code",
   "execution_count": 13,
   "id": "c7020115-25fe-486c-84ad-8a3025eae4f9",
   "metadata": {},
   "outputs": [
    {
     "name": "stdout",
     "output_type": "stream",
     "text": [
      "hello\n",
      "good noon\n",
      "12\n"
     ]
    }
   ],
   "source": [
    "def greet():\n",
    "    print('hello')\n",
    "    print('good noon')\n",
    "\n",
    "def add(x,y,z):\n",
    "    c=x+y+z\n",
    "    return c\n",
    "\n",
    "greet()\n",
    "\n",
    "result = add(5,4,3)\n",
    "print(result) "
   ]
  },
  {
   "cell_type": "code",
   "execution_count": 14,
   "id": "68a1bd40-70a1-40ec-ac45-2ef519dd1633",
   "metadata": {},
   "outputs": [
    {
     "name": "stdout",
     "output_type": "stream",
     "text": [
      "9 -1 20 0.8 1024\n"
     ]
    }
   ],
   "source": [
    "def add_sub(x,y): # what if i want to return 2 values add_sub & i want to return 2 values & function can accept multiple value \n",
    "    c= x+y\n",
    "    d= x-y\n",
    "    e=x*y\n",
    "    f= x/y\n",
    "    g = x**y\n",
    "    print(c, d,e,f,g)\n",
    "    \n",
    "add_sub(4,5)"
   ]
  },
  {
   "cell_type": "code",
   "execution_count": 15,
   "id": "1a854f1e-d9ef-44c8-9e56-9c88904d418d",
   "metadata": {},
   "outputs": [
    {
     "name": "stdout",
     "output_type": "stream",
     "text": [
      "9 -1\n"
     ]
    }
   ],
   "source": [
    "def add_sub(x,y): # what if i want to return 2 values add_sub & i want to return 2 values & function can accept multiple value \n",
    "    c= x+y\n",
    "    d= x-y\n",
    "    print(c,d) \n",
    "    \n",
    "add_sub(4,5)"
   ]
  },
  {
   "cell_type": "code",
   "execution_count": 16,
   "id": "634ef2d6-7464-4833-b6b1-8096ca941476",
   "metadata": {},
   "outputs": [
    {
     "name": "stdout",
     "output_type": "stream",
     "text": [
      "(9, -1)\n",
      "<class 'tuple'>\n"
     ]
    }
   ],
   "source": [
    "def add_sub(x,y): # what if i want to return 2 values add_sub & i want to return 2 values & function can accept multiple value \n",
    "    c= x+y\n",
    "    d= x-y\n",
    "    return c, d\n",
    "    \n",
    "result = add_sub(4,5)\n",
    "\n",
    "print(result)\n",
    "print(type(result))"
   ]
  },
  {
   "cell_type": "code",
   "execution_count": 17,
   "id": "38ec85d4-5f7b-48cb-a932-7a523b521f09",
   "metadata": {},
   "outputs": [
    {
     "name": "stdout",
     "output_type": "stream",
     "text": [
      "9 1\n",
      "<class 'int'>\n",
      "<class 'int'>\n"
     ]
    }
   ],
   "source": [
    "def add_sub(x,y):\n",
    "    c= x+y\n",
    "    d= x-y\n",
    "    return c, d\n",
    "\n",
    "result1,result2 = add_sub(5,4)\n",
    "\n",
    "print(result1,result2)\n",
    "\n",
    "print(type(result1))\n",
    "print(type(result2))"
   ]
  },
  {
   "cell_type": "code",
   "execution_count": 18,
   "id": "98443c82-c470-4b66-9515-3cd8b57cb0fc",
   "metadata": {},
   "outputs": [
    {
     "name": "stdout",
     "output_type": "stream",
     "text": [
      "10\n"
     ]
    }
   ],
   "source": [
    "def bmw(x): #update function take the value from the user\n",
    "    x = 10\n",
    "    print(x)\n",
    "    \n",
    "bmw(8)"
   ]
  },
  {
   "cell_type": "code",
   "execution_count": 19,
   "id": "cf91d57a-a3d1-4183-9a11-87fb6630e231",
   "metadata": {},
   "outputs": [
    {
     "name": "stdout",
     "output_type": "stream",
     "text": [
      "10\n"
     ]
    }
   ],
   "source": [
    "def bmw(x): #update function take the value from the user\n",
    "    x = 10\n",
    "    print(x)\n",
    "    \n",
    "bmw(8)"
   ]
  },
  {
   "cell_type": "code",
   "execution_count": 20,
   "id": "288977bf-376d-4e50-923a-9d5ea301d61a",
   "metadata": {},
   "outputs": [
    {
     "name": "stdout",
     "output_type": "stream",
     "text": [
      "8\n",
      "10\n"
     ]
    }
   ],
   "source": [
    "def bmw(x):  \n",
    "    x = 8\n",
    "    print(x)\n",
    "    \n",
    "a = 10\n",
    "bmw(a)\n",
    "print(a)"
   ]
  },
  {
   "cell_type": "code",
   "execution_count": 26,
   "id": "212016ad-1f8d-43e1-b7ba-4459ba901579",
   "metadata": {},
   "outputs": [
    {
     "name": "stdout",
     "output_type": "stream",
     "text": [
      "11\n"
     ]
    }
   ],
   "source": [
    "#Formal Argument\n",
    "class nit:\n",
    "    def add(a,b):# a & b called formal argument\n",
    "        c = a+b\n",
    "        print(c)\n",
    "    \n",
    "    add(5,6) #5 and 6 we called as actual argument"
   ]
  },
  {
   "cell_type": "code",
   "execution_count": 29,
   "id": "33b38a59-e2a1-4805-913f-ecb255c0a3ce",
   "metadata": {},
   "outputs": [
    {
     "data": {
      "text/plain": [
       "'ACTUAL ARGUMENT\\n1) Positinal Argument\\n2) Keyboard Argument\\n3) Variable length\\n4) Default'"
      ]
     },
     "execution_count": 29,
     "metadata": {},
     "output_type": "execute_result"
    }
   ],
   "source": [
    "'''ACTUAL ARGUMENT\n",
    "1) Positinal Argument\n",
    "2) Keyboard Argument\n",
    "3) Variable length\n",
    "4) Default'''"
   ]
  },
  {
   "cell_type": "code",
   "execution_count": 30,
   "id": "4e35ed98-2774-406b-934b-e0bdc3f8d536",
   "metadata": {},
   "outputs": [
    {
     "name": "stdout",
     "output_type": "stream",
     "text": [
      "nit\n",
      "22\n"
     ]
    }
   ],
   "source": [
    "def person(name,age):\n",
    "    print(name)\n",
    "    print(age)\n",
    "    \n",
    "person('nit',22)"
   ]
  },
  {
   "cell_type": "code",
   "execution_count": 31,
   "id": "40af3095-a88d-4342-a164-f70eb8e161c0",
   "metadata": {},
   "outputs": [
    {
     "name": "stdout",
     "output_type": "stream",
     "text": [
      "22\n",
      "nit\n"
     ]
    }
   ],
   "source": [
    "def person(name,age):\n",
    "    print(name)\n",
    "    print(age)\n",
    "    \n",
    "person(22, 'nit')"
   ]
  },
  {
   "cell_type": "code",
   "execution_count": 32,
   "id": "66513f97-cf5a-4218-9905-b87a34955191",
   "metadata": {},
   "outputs": [
    {
     "name": "stdout",
     "output_type": "stream",
     "text": [
      "22\n"
     ]
    },
    {
     "ename": "TypeError",
     "evalue": "unsupported operand type(s) for -: 'str' and 'int'",
     "output_type": "error",
     "traceback": [
      "\u001b[1;31m---------------------------------------------------------------------------\u001b[0m",
      "\u001b[1;31mTypeError\u001b[0m                                 Traceback (most recent call last)",
      "Cell \u001b[1;32mIn[32], line 5\u001b[0m\n\u001b[0;32m      2\u001b[0m     \u001b[38;5;28mprint\u001b[39m(name)\n\u001b[0;32m      3\u001b[0m     \u001b[38;5;28mprint\u001b[39m(age\u001b[38;5;241m-\u001b[39m\u001b[38;5;241m5\u001b[39m)   \n\u001b[1;32m----> 5\u001b[0m person(\u001b[38;5;241m22\u001b[39m, \u001b[38;5;124m'\u001b[39m\u001b[38;5;124mnit\u001b[39m\u001b[38;5;124m'\u001b[39m)\n",
      "Cell \u001b[1;32mIn[32], line 3\u001b[0m, in \u001b[0;36mperson\u001b[1;34m(name, age)\u001b[0m\n\u001b[0;32m      1\u001b[0m \u001b[38;5;28;01mdef\u001b[39;00m \u001b[38;5;21mperson\u001b[39m(name,age):\n\u001b[0;32m      2\u001b[0m     \u001b[38;5;28mprint\u001b[39m(name)\n\u001b[1;32m----> 3\u001b[0m     \u001b[38;5;28mprint\u001b[39m(age\u001b[38;5;241m-\u001b[39m\u001b[38;5;241m5\u001b[39m)\n",
      "\u001b[1;31mTypeError\u001b[0m: unsupported operand type(s) for -: 'str' and 'int'"
     ]
    }
   ],
   "source": [
    "def person(name,age):\n",
    "    print(name)\n",
    "    print(age-5)   \n",
    "    \n",
    "person(22, 'nit')"
   ]
  },
  {
   "cell_type": "code",
   "execution_count": 33,
   "id": "c01df5e7-3b63-45a0-96a8-a5a8cbd0af71",
   "metadata": {},
   "outputs": [
    {
     "name": "stdout",
     "output_type": "stream",
     "text": [
      "nit\n",
      "17\n"
     ]
    }
   ],
   "source": [
    "def person(name,age):\n",
    "    print(name)\n",
    "    print(age-5)   \n",
    "    \n",
    "person(age = 22, name = 'nit')"
   ]
  },
  {
   "cell_type": "code",
   "execution_count": 34,
   "id": "6183502f-a41d-4cd9-a6f6-8698a8c8605b",
   "metadata": {},
   "outputs": [
    {
     "ename": "TypeError",
     "evalue": "person() takes 2 positional arguments but 3 were given",
     "output_type": "error",
     "traceback": [
      "\u001b[1;31m---------------------------------------------------------------------------\u001b[0m",
      "\u001b[1;31mTypeError\u001b[0m                                 Traceback (most recent call last)",
      "Cell \u001b[1;32mIn[34], line 7\u001b[0m\n\u001b[0;32m      4\u001b[0m     \u001b[38;5;28mprint\u001b[39m(name)\n\u001b[0;32m      5\u001b[0m     \u001b[38;5;28mprint\u001b[39m(age)   \n\u001b[1;32m----> 7\u001b[0m person(\u001b[38;5;241m22\u001b[39m, \u001b[38;5;124m'\u001b[39m\u001b[38;5;124mnit\u001b[39m\u001b[38;5;124m'\u001b[39m, \u001b[38;5;241m5\u001b[39m)\n",
      "\u001b[1;31mTypeError\u001b[0m: person() takes 2 positional arguments but 3 were given"
     ]
    }
   ],
   "source": [
    "# keyword \n",
    "\n",
    "def person(name,age ):\n",
    "    print(name)\n",
    "    print(age)   \n",
    "    \n",
    "person(22, 'nit', 5)"
   ]
  },
  {
   "cell_type": "code",
   "execution_count": null,
   "id": "393d8032-1403-42c6-a001-bebbe99c9266",
   "metadata": {},
   "outputs": [],
   "source": []
  }
 ],
 "metadata": {
  "kernelspec": {
   "display_name": "Python 3 (ipykernel)",
   "language": "python",
   "name": "python3"
  },
  "language_info": {
   "codemirror_mode": {
    "name": "ipython",
    "version": 3
   },
   "file_extension": ".py",
   "mimetype": "text/x-python",
   "name": "python",
   "nbconvert_exporter": "python",
   "pygments_lexer": "ipython3",
   "version": "3.12.7"
  }
 },
 "nbformat": 4,
 "nbformat_minor": 5
}
