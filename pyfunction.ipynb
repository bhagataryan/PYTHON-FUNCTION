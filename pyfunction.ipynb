{
 "cells": [
  {
   "cell_type": "code",
   "execution_count": 3,
   "id": "e31e5e11-ad3c-4414-8798-c445768aa1d3",
   "metadata": {},
   "outputs": [],
   "source": [
    "def show():\n",
    "    print('Hi')\n",
    "    print('How you doing')"
   ]
  },
  {
   "cell_type": "code",
   "execution_count": 5,
   "id": "944b8d03-8266-4518-8bc2-5c588ed2ebfc",
   "metadata": {},
   "outputs": [
    {
     "name": "stdout",
     "output_type": "stream",
     "text": [
      "Hi\n",
      "How you doing\n"
     ]
    }
   ],
   "source": [
    "def show():\n",
    "    print('Hi')\n",
    "    print('How you doing') \n",
    "show()"
   ]
  },
  {
   "cell_type": "code",
   "execution_count": 6,
   "id": "74947f03-6c68-47ed-8bc3-286bfbab0e6c",
   "metadata": {},
   "outputs": [
    {
     "name": "stdout",
     "output_type": "stream",
     "text": [
      "Hi\n",
      "How you doing\n",
      "Hi\n",
      "How you doing\n",
      "Hi\n",
      "How you doing\n"
     ]
    }
   ],
   "source": [
    "def show():\n",
    "    print('Hi')\n",
    "    print('How you doing') \n",
    "show()\n",
    "def show():\n",
    "    print('Hi')\n",
    "    print('How you doing') \n",
    "show()\n",
    "def show():\n",
    "    print('Hi')\n",
    "    print('How you doing') \n",
    "show()"
   ]
  },
  {
   "cell_type": "code",
   "execution_count": 7,
   "id": "867f8ed2-6ced-4114-a8bb-ef1b77cea1d2",
   "metadata": {},
   "outputs": [
    {
     "name": "stdout",
     "output_type": "stream",
     "text": [
      "Hi\n",
      "How you doing\n",
      "Hi\n",
      "How you doing\n",
      "Hi\n",
      "How you doing\n"
     ]
    }
   ],
   "source": [
    "def show():\n",
    "    print('Hi')\n",
    "    print('How you doing') \n",
    "show()\n",
    "show()\n",
    "show()"
   ]
  },
  {
   "cell_type": "code",
   "execution_count": 12,
   "id": "084c08cb-1bd1-4ed5-b7c3-f80f6f32c60b",
   "metadata": {},
   "outputs": [
    {
     "name": "stdout",
     "output_type": "stream",
     "text": [
      "13\n"
     ]
    }
   ],
   "source": [
    "# write a python code add 2 number \n",
    "def sum(a,b):\n",
    "    c=a+b\n",
    "    print(c)\n",
    "sum(4,9)\n",
    "    \n",
    "    "
   ]
  },
  {
   "cell_type": "code",
   "execution_count": 14,
   "id": "6111e073-142c-450a-963c-7b152fadf48c",
   "metadata": {},
   "outputs": [
    {
     "name": "stdout",
     "output_type": "stream",
     "text": [
      "6\n"
     ]
    }
   ],
   "source": [
    "# write a python code add 3 number\n",
    "def sum(x,y,z):\n",
    "    v=x+y+z\n",
    "    print(v)\n",
    "sum(1,2,3)    "
   ]
  },
  {
   "cell_type": "code",
   "execution_count": 15,
   "id": "398215e7-1f47-4742-988c-d5b5e5aad492",
   "metadata": {},
   "outputs": [
    {
     "name": "stdout",
     "output_type": "stream",
     "text": [
      "Hi\n",
      "How you doing\n",
      "6\n"
     ]
    }
   ],
   "source": [
    "def show():\n",
    "    print('Hi')\n",
    "    print('How you doing')\n",
    "show()\n",
    "\n",
    "def add(x,y,z):\n",
    "    v=x+y+z\n",
    "    print(v)\n",
    "sum(1,2,3)    "
   ]
  },
  {
   "cell_type": "code",
   "execution_count": 16,
   "id": "9d487bd9-acd1-4376-816e-05bccee92ae1",
   "metadata": {},
   "outputs": [
    {
     "name": "stdout",
     "output_type": "stream",
     "text": [
      "Hi\n",
      "How you doing\n",
      "5\n"
     ]
    }
   ],
   "source": [
    "def sum():\n",
    "    print('Hi')\n",
    "    print('How you doing')\n",
    "    \n",
    "def add(x,y,z):\n",
    "    v = x+y+z\n",
    "    return v\n",
    "\n",
    "def sub(x,y):\n",
    "    d=x-y\n",
    "    print(d)\n",
    "\n",
    "sum()\n",
    "add(2,3,4)\n",
    "sub(7,2)"
   ]
  },
  {
   "cell_type": "code",
   "execution_count": 24,
   "id": "b72b18bc-5943-4208-a4bb-ac62846da9b0",
   "metadata": {},
   "outputs": [
    {
     "name": "stdout",
     "output_type": "stream",
     "text": [
      "hi\n",
      "Good afternoon\n",
      "12\n"
     ]
    }
   ],
   "source": [
    "def show():\n",
    "    print('hi')\n",
    "    print('Good afternoon')\n",
    "\n",
    "def add(x,y,z):\n",
    "    c=x+y+z\n",
    "    return c\n",
    "\n",
    "show()\n",
    "result = add(5,4,3)\n",
    "print(result)"
   ]
  },
  {
   "cell_type": "code",
   "execution_count": 28,
   "id": "0ed8d238-8409-463b-9be2-2e29ed3ae49e",
   "metadata": {},
   "outputs": [
    {
     "name": "stdout",
     "output_type": "stream",
     "text": [
      "11 -1 30 0.8333333333333334 15625 5\n"
     ]
    }
   ],
   "source": [
    "def add_sub(x,y):\n",
    "    a=x+y\n",
    "    b=x-y\n",
    "    c=x*y\n",
    "    d=x/y\n",
    "    e=x**y\n",
    "    f=x%y\n",
    "    print(a,b,c,d,e,f)\n",
    "\n",
    "add_sub(5,6)\n",
    "\n"
   ]
  },
  {
   "cell_type": "code",
   "execution_count": 29,
   "id": "87c55015-8a6a-44a5-b844-21ae59877f4c",
   "metadata": {},
   "outputs": [
    {
     "name": "stdout",
     "output_type": "stream",
     "text": [
      "9 -1\n"
     ]
    }
   ],
   "source": [
    "# what if i want to return 2 values add_sub & i want to return 2 values & function can accept multiple value \n",
    "def add_sub(x,y):\n",
    "    a=x+y\n",
    "    b=x-y\n",
    "    print(a,b)\n",
    "\n",
    "add_sub(4,5)\n"
   ]
  },
  {
   "cell_type": "code",
   "execution_count": 30,
   "id": "19d021de-4068-446b-8d19-5188e3c98ecc",
   "metadata": {},
   "outputs": [
    {
     "data": {
      "text/plain": [
       "(9, -1)"
      ]
     },
     "execution_count": 30,
     "metadata": {},
     "output_type": "execute_result"
    }
   ],
   "source": [
    "# what if i want to return 2 values add_sub & i want to return 2 values & function can accept multiple value \n",
    "def add_sub(x,y):\n",
    "    a=x+y\n",
    "    b=x-y\n",
    "    return a,b\n",
    "\n",
    "add_sub(4,5)"
   ]
  },
  {
   "cell_type": "code",
   "execution_count": 37,
   "id": "3d805c0c-4978-45cb-9c48-878e51aebf58",
   "metadata": {},
   "outputs": [
    {
     "name": "stdout",
     "output_type": "stream",
     "text": [
      "(9, -1)\n",
      "<class 'tuple'>\n"
     ]
    }
   ],
   "source": [
    "# what if i want to return 2 values add_sub & i want to return 2 values & function can accept multiple value \n",
    "def add_sub(x,y):\n",
    "    a=x+y\n",
    "    b=x-y\n",
    "    return a, b\n",
    "\n",
    "result = add_sub(4,5)\n",
    "print(result)\n",
    "print(type(result))"
   ]
  },
  {
   "cell_type": "code",
   "execution_count": 40,
   "id": "268bc2ea-12e7-4d73-9d6f-f7c7dc12da65",
   "metadata": {},
   "outputs": [
    {
     "name": "stdout",
     "output_type": "stream",
     "text": [
      "7 -1\n",
      "<class 'int'>\n",
      "<class 'int'>\n"
     ]
    }
   ],
   "source": [
    "def add_sub(x,y):\n",
    "    a=x+y\n",
    "    b=x-y\n",
    "    return a,b\n",
    "\n",
    "result1,result2 = add_sub(3,4)\n",
    "\n",
    "print(result1,result2)\n",
    "print(type(result1))\n",
    "print(type(result1))"
   ]
  },
  {
   "cell_type": "code",
   "execution_count": 46,
   "id": "d762bdc6-0c33-46fb-b8b8-c18970ad0b5e",
   "metadata": {},
   "outputs": [
    {
     "name": "stdout",
     "output_type": "stream",
     "text": [
      "9\n"
     ]
    }
   ],
   "source": [
    " #update function take the value from the user\n",
    "def cow(x):\n",
    "    x=9\n",
    "    print(x)\n",
    "cow(3)"
   ]
  },
  {
   "cell_type": "code",
   "execution_count": 47,
   "id": "60f970df-a3d8-4b2e-b3c8-a2336492217d",
   "metadata": {},
   "outputs": [
    {
     "name": "stdout",
     "output_type": "stream",
     "text": [
      "9\n",
      "10\n"
     ]
    }
   ],
   "source": [
    "def cow(x):\n",
    "    x=9\n",
    "    print(x)\n",
    "\n",
    "a=10\n",
    "cow(a)\n",
    "print(a)\n",
    "    "
   ]
  },
  {
   "cell_type": "code",
   "execution_count": 52,
   "id": "14320816-8c81-4bfa-a0f0-c28af0c5cf23",
   "metadata": {},
   "outputs": [
    {
     "name": "stdout",
     "output_type": "stream",
     "text": [
      "9\n"
     ]
    }
   ],
   "source": [
    "class func:\n",
    "    def add(x,y):     # a & b called formal argument\n",
    "        c = x+y\n",
    "        print(c)\n",
    "\n",
    "    add(4,5)       #5 and 6 we called as actual argument\n",
    "    "
   ]
  },
  {
   "cell_type": "code",
   "execution_count": 53,
   "id": "43870334-b2aa-4952-b45a-9ff6506833da",
   "metadata": {},
   "outputs": [
    {
     "name": "stdout",
     "output_type": "stream",
     "text": [
      "mohit\n",
      "22\n"
     ]
    }
   ],
   "source": [
    "def person(name,age):\n",
    "    print(name)\n",
    "    print(age)\n",
    "person('mohit',22)    "
   ]
  },
  {
   "cell_type": "code",
   "execution_count": 54,
   "id": "1fd0314c-69db-415a-8d70-3598d12d88c9",
   "metadata": {},
   "outputs": [
    {
     "name": "stdout",
     "output_type": "stream",
     "text": [
      "22\n",
      "mohit\n"
     ]
    }
   ],
   "source": [
    "def person(name,age):\n",
    "    print(name)\n",
    "    print(age)\n",
    "person(22,'mohit')    \n",
    "    "
   ]
  },
  {
   "cell_type": "code",
   "execution_count": 55,
   "id": "8bd30b95-7e20-41a5-8070-ce7793d9b3bf",
   "metadata": {},
   "outputs": [
    {
     "name": "stdout",
     "output_type": "stream",
     "text": [
      "22\n"
     ]
    },
    {
     "ename": "TypeError",
     "evalue": "unsupported operand type(s) for -: 'str' and 'int'",
     "output_type": "error",
     "traceback": [
      "\u001b[1;31m---------------------------------------------------------------------------\u001b[0m",
      "\u001b[1;31mTypeError\u001b[0m                                 Traceback (most recent call last)",
      "Cell \u001b[1;32mIn[55], line 4\u001b[0m\n\u001b[0;32m      2\u001b[0m     \u001b[38;5;28mprint\u001b[39m(name)\n\u001b[0;32m      3\u001b[0m     \u001b[38;5;28mprint\u001b[39m(age\u001b[38;5;241m-\u001b[39m\u001b[38;5;241m5\u001b[39m)\n\u001b[1;32m----> 4\u001b[0m person(\u001b[38;5;241m22\u001b[39m,\u001b[38;5;124m'\u001b[39m\u001b[38;5;124mmohit\u001b[39m\u001b[38;5;124m'\u001b[39m)\n",
      "Cell \u001b[1;32mIn[55], line 3\u001b[0m, in \u001b[0;36mperson\u001b[1;34m(name, age)\u001b[0m\n\u001b[0;32m      1\u001b[0m \u001b[38;5;28;01mdef\u001b[39;00m \u001b[38;5;21mperson\u001b[39m(name,age):\n\u001b[0;32m      2\u001b[0m     \u001b[38;5;28mprint\u001b[39m(name)\n\u001b[1;32m----> 3\u001b[0m     \u001b[38;5;28mprint\u001b[39m(age\u001b[38;5;241m-\u001b[39m\u001b[38;5;241m5\u001b[39m)\n",
      "\u001b[1;31mTypeError\u001b[0m: unsupported operand type(s) for -: 'str' and 'int'"
     ]
    }
   ],
   "source": [
    "def person(name,age):\n",
    "    print(name)\n",
    "    print(age-5)\n",
    "person(22,'mohit')    "
   ]
  },
  {
   "cell_type": "code",
   "execution_count": 56,
   "id": "a265d6da-dd92-41aa-970d-4eac437fdeda",
   "metadata": {},
   "outputs": [
    {
     "name": "stdout",
     "output_type": "stream",
     "text": [
      "nit\n",
      "17\n"
     ]
    }
   ],
   "source": [
    "# keyword \n",
    "\n",
    "def person(name,age):\n",
    "    print(name)\n",
    "    print(age-5)   \n",
    "    \n",
    "person(age = 22, name = 'mohit')"
   ]
  },
  {
   "cell_type": "code",
   "execution_count": 57,
   "id": "ed249789-d86e-4a16-af61-a59999b9170d",
   "metadata": {},
   "outputs": [
    {
     "ename": "TypeError",
     "evalue": "person() takes 2 positional arguments but 3 were given",
     "output_type": "error",
     "traceback": [
      "\u001b[1;31m---------------------------------------------------------------------------\u001b[0m",
      "\u001b[1;31mTypeError\u001b[0m                                 Traceback (most recent call last)",
      "Cell \u001b[1;32mIn[57], line 7\u001b[0m\n\u001b[0;32m      4\u001b[0m     \u001b[38;5;28mprint\u001b[39m(name)\n\u001b[0;32m      5\u001b[0m     \u001b[38;5;28mprint\u001b[39m(age)   \n\u001b[1;32m----> 7\u001b[0m person(\u001b[38;5;241m22\u001b[39m, \u001b[38;5;124m'\u001b[39m\u001b[38;5;124mnit\u001b[39m\u001b[38;5;124m'\u001b[39m, \u001b[38;5;241m5\u001b[39m)\n",
      "\u001b[1;31mTypeError\u001b[0m: person() takes 2 positional arguments but 3 were given"
     ]
    }
   ],
   "source": [
    "# keyword \n",
    "\n",
    "def person(name,age ):\n",
    "    print(name)\n",
    "    print(age)   \n",
    "    \n",
    "person(22, 'nit', 5)"
   ]
  },
  {
   "cell_type": "code",
   "execution_count": null,
   "id": "477f7c43-e618-4913-8cf8-8aa90f28426c",
   "metadata": {},
   "outputs": [],
   "source": []
  }
 ],
 "metadata": {
  "kernelspec": {
   "display_name": "Python 3 (ipykernel)",
   "language": "python",
   "name": "python3"
  },
  "language_info": {
   "codemirror_mode": {
    "name": "ipython",
    "version": 3
   },
   "file_extension": ".py",
   "mimetype": "text/x-python",
   "name": "python",
   "nbconvert_exporter": "python",
   "pygments_lexer": "ipython3",
   "version": "3.12.7"
  }
 },
 "nbformat": 4,
 "nbformat_minor": 5
}
